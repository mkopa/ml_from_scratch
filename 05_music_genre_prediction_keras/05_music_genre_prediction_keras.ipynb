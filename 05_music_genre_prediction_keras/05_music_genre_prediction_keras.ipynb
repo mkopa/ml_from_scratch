{
 "cells": [
  {
   "cell_type": "markdown",
   "metadata": {},
   "source": [
    "# Music genre prediction using Keras\n",
    "\n",
    "\n",
    "In this lesson we will...\n",
    "\n",
    "\n",
    "## Implementation"
   ]
  },
  {
   "cell_type": "code",
   "execution_count": 1,
   "metadata": {},
   "outputs": [
    {
     "name": "stderr",
     "output_type": "stream",
     "text": [
      "Using Theano backend.\n",
      "WARNING (theano.tensor.blas): Using NumPy C-API based implementation for BLAS functions.\n"
     ]
    }
   ],
   "source": [
    "import numpy as np\n",
    "from keras.models import Sequential\n",
    "from keras.layers import Dense\n",
    "from keras.optimizers import SGD\n",
    "\n",
    "IN_FILE = \"./classical_vs_rock.npz\"\n",
    "SAMPLE_WIDTH = 1200\n",
    "\n",
    "BATCH_SIZE = 16\n",
    "LEARNING_RATE = 0.01\n",
    "\n",
    "NUM_EPOCHS = 10"
   ]
  },
  {
   "cell_type": "markdown",
   "metadata": {},
   "source": [
    "..."
   ]
  },
  {
   "cell_type": "code",
   "execution_count": 2,
   "metadata": {},
   "outputs": [],
   "source": [
    "data = np.load(IN_FILE)\n",
    "x_train = data['train']\n",
    "y_train = np.zeros((x_train.shape[0]))\n",
    "y_train[int(x_train.shape[0]/2):] = 1.0\n",
    "x_test = data['test']\n",
    "y_test = np.zeros((x_test.shape[0]))\n",
    "y_test[int(x_test.shape[0]/2):] = 1.0"
   ]
  },
  {
   "cell_type": "markdown",
   "metadata": {},
   "source": [
    "..."
   ]
  },
  {
   "cell_type": "code",
   "execution_count": 3,
   "metadata": {},
   "outputs": [],
   "source": [
    "model = Sequential()\n",
    "model.add(Dense(256, activation='relu'))\n",
    "model.add(Dense(64, activation='relu'))\n",
    "model.add(Dense(1, activation='sigmoid'))"
   ]
  },
  {
   "cell_type": "markdown",
   "metadata": {},
   "source": [
    "..."
   ]
  },
  {
   "cell_type": "code",
   "execution_count": 4,
   "metadata": {},
   "outputs": [],
   "source": [
    "model.compile(loss='mean_squared_error',\n",
    "              optimizer=SGD(lr=LEARNING_RATE),\n",
    "              metrics=['accuracy'])"
   ]
  },
  {
   "cell_type": "markdown",
   "metadata": {},
   "source": [
    "..."
   ]
  },
  {
   "cell_type": "code",
   "execution_count": 5,
   "metadata": {},
   "outputs": [
    {
     "name": "stdout",
     "output_type": "stream",
     "text": [
      "Train on 8000 samples, validate on 2000 samples\n",
      "Epoch 1/10\n",
      "8000/8000 [==============================] - 4s 505us/step - loss: 0.2269 - acc: 0.7513 - val_loss: 0.2096 - val_acc: 0.8235\n",
      "Epoch 2/10\n",
      "8000/8000 [==============================] - 4s 558us/step - loss: 0.1955 - acc: 0.8141 - val_loss: 0.1817 - val_acc: 0.8335\n",
      "Epoch 3/10\n",
      "8000/8000 [==============================] - 5s 630us/step - loss: 0.1729 - acc: 0.8179 - val_loss: 0.1626 - val_acc: 0.8335\n",
      "Epoch 4/10\n",
      "8000/8000 [==============================] - 5s 655us/step - loss: 0.1581 - acc: 0.8169 - val_loss: 0.1502 - val_acc: 0.8305\n",
      "Epoch 5/10\n",
      "8000/8000 [==============================] - 4s 503us/step - loss: 0.1486 - acc: 0.8170 - val_loss: 0.1423 - val_acc: 0.8300\n",
      "Epoch 6/10\n",
      "8000/8000 [==============================] - 5s 658us/step - loss: 0.1425 - acc: 0.8181 - val_loss: 0.1371 - val_acc: 0.8300\n",
      "Epoch 7/10\n",
      "8000/8000 [==============================] - 4s 550us/step - loss: 0.1383 - acc: 0.8209 - val_loss: 0.1335 - val_acc: 0.8330\n",
      "Epoch 8/10\n",
      "8000/8000 [==============================] - 5s 635us/step - loss: 0.1352 - acc: 0.8213 - val_loss: 0.1310 - val_acc: 0.8345\n",
      "Epoch 9/10\n",
      "8000/8000 [==============================] - 6s 725us/step - loss: 0.1329 - acc: 0.8245 - val_loss: 0.1291 - val_acc: 0.8340\n",
      "Epoch 10/10\n",
      "8000/8000 [==============================] - 5s 660us/step - loss: 0.1311 - acc: 0.8269 - val_loss: 0.1278 - val_acc: 0.8355\n"
     ]
    }
   ],
   "source": [
    "history = model.fit(x_train, y_train,\n",
    "                    batch_size=BATCH_SIZE,\n",
    "                    epochs=NUM_EPOCHS,\n",
    "                    verbose=1,\n",
    "                    validation_data=(x_test, y_test))"
   ]
  },
  {
   "cell_type": "markdown",
   "metadata": {},
   "source": [
    "..."
   ]
  },
  {
   "cell_type": "code",
   "execution_count": 6,
   "metadata": {},
   "outputs": [
    {
     "name": "stdout",
     "output_type": "stream",
     "text": [
      "Layer: 0 parameter: 0 type: float32 shape: (1200, 256)\n",
      "Layer: 0 parameter: 1 type: float32 shape: (256,)\n",
      "Layer: 1 parameter: 0 type: float32 shape: (256, 64)\n",
      "Layer: 1 parameter: 1 type: float32 shape: (64,)\n",
      "Layer: 2 parameter: 0 type: float32 shape: (64, 1)\n",
      "Layer: 2 parameter: 1 type: float32 shape: (1,)\n"
     ]
    }
   ],
   "source": [
    "for layer_id, layer in enumerate(model.layers):\n",
    "    weights = layer.get_weights()\n",
    "    for param_id, param in enumerate(weights):\n",
    "        print(\"Layer: {} parameter: {} type: {} shape: {}\".format(\n",
    "                layer_id, param_id, param.dtype, param.shape))"
   ]
  },
  {
   "cell_type": "markdown",
   "metadata": {},
   "source": [
    "..."
   ]
  }
 ],
 "metadata": {
  "kernelspec": {
   "display_name": "Python 2",
   "language": "python",
   "name": "python2"
  },
  "language_info": {
   "codemirror_mode": {
    "name": "ipython",
    "version": 2
   },
   "file_extension": ".py",
   "mimetype": "text/x-python",
   "name": "python",
   "nbconvert_exporter": "python",
   "pygments_lexer": "ipython2",
   "version": "2.7.12"
  }
 },
 "nbformat": 4,
 "nbformat_minor": 2
}
