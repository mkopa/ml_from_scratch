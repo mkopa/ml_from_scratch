{
 "cells": [
  {
   "cell_type": "markdown",
   "metadata": {},
   "source": [
    "# Music genre prediction using Keras\n",
    "\n",
    "\n",
    "In this lesson we will...\n",
    "\n",
    "\n",
    "## Implementation"
   ]
  },
  {
   "cell_type": "code",
   "execution_count": 1,
   "metadata": {},
   "outputs": [
    {
     "name": "stderr",
     "output_type": "stream",
     "text": [
      "/usr/local/lib/python2.7/dist-packages/h5py/__init__.py:36: FutureWarning: Conversion of the second argument of issubdtype from `float` to `np.floating` is deprecated. In future, it will be treated as `np.float64 == np.dtype(float).type`.\n",
      "  from ._conv import register_converters as _register_converters\n",
      "Using TensorFlow backend.\n"
     ]
    }
   ],
   "source": [
    "import numpy as np\n",
    "from keras.models import Sequential\n",
    "from keras.layers import Dense\n",
    "from keras.optimizers import SGD\n",
    "\n",
    "IN_FILE = \"./classical_vs_rock.npz\"\n",
    "SAMPLE_WIDTH = 1200\n",
    "\n",
    "BATCH_SIZE = 16\n",
    "LEARNING_RATE = 0.01\n",
    "\n",
    "NUM_EPOCHS = 10"
   ]
  },
  {
   "cell_type": "markdown",
   "metadata": {},
   "source": [
    "..."
   ]
  },
  {
   "cell_type": "code",
   "execution_count": 2,
   "metadata": {},
   "outputs": [],
   "source": [
    "data = np.load(IN_FILE)\n",
    "x_train = data['train']\n",
    "y_train = np.zeros((x_train.shape[0]))\n",
    "y_train[int(x_train.shape[0]/2):] = 1.0\n",
    "x_test = data['test']\n",
    "y_test = np.zeros((x_test.shape[0]))\n",
    "y_test[int(x_test.shape[0]/2):] = 1.0"
   ]
  },
  {
   "cell_type": "markdown",
   "metadata": {},
   "source": [
    "..."
   ]
  },
  {
   "cell_type": "code",
   "execution_count": 3,
   "metadata": {},
   "outputs": [],
   "source": [
    "model = Sequential()\n",
    "model.add(Dense(256, activation='relu'))\n",
    "model.add(Dense(64, activation='relu'))\n",
    "model.add(Dense(1, activation='sigmoid'))"
   ]
  },
  {
   "cell_type": "markdown",
   "metadata": {},
   "source": [
    "..."
   ]
  },
  {
   "cell_type": "code",
   "execution_count": 4,
   "metadata": {},
   "outputs": [],
   "source": [
    "model.compile(loss='mean_squared_error',\n",
    "              optimizer=SGD(lr=LEARNING_RATE),\n",
    "              metrics=['accuracy'])"
   ]
  },
  {
   "cell_type": "markdown",
   "metadata": {},
   "source": [
    "..."
   ]
  },
  {
   "cell_type": "code",
   "execution_count": 5,
   "metadata": {},
   "outputs": [
    {
     "name": "stdout",
     "output_type": "stream",
     "text": [
      "Train on 8000 samples, validate on 2000 samples\n",
      "Epoch 1/10\n",
      " - 2s - loss: 0.2378 - acc: 0.6931 - val_loss: 0.2163 - val_acc: 0.8050\n",
      "Epoch 2/10\n",
      " - 1s - loss: 0.1991 - acc: 0.8124 - val_loss: 0.1852 - val_acc: 0.8315\n",
      "Epoch 3/10\n",
      " - 1s - loss: 0.1745 - acc: 0.8202 - val_loss: 0.1650 - val_acc: 0.8345\n",
      "Epoch 4/10\n",
      " - 1s - loss: 0.1589 - acc: 0.8193 - val_loss: 0.1522 - val_acc: 0.8325\n",
      "Epoch 5/10\n",
      " - 1s - loss: 0.1491 - acc: 0.8196 - val_loss: 0.1441 - val_acc: 0.8335\n",
      "Epoch 6/10\n",
      " - 1s - loss: 0.1429 - acc: 0.8193 - val_loss: 0.1388 - val_acc: 0.8350\n",
      "Epoch 7/10\n",
      " - 1s - loss: 0.1386 - acc: 0.8214 - val_loss: 0.1352 - val_acc: 0.8340\n",
      "Epoch 8/10\n",
      " - 1s - loss: 0.1355 - acc: 0.8226 - val_loss: 0.1326 - val_acc: 0.8360\n",
      "Epoch 9/10\n",
      " - 1s - loss: 0.1331 - acc: 0.8244 - val_loss: 0.1309 - val_acc: 0.8315\n",
      "Epoch 10/10\n",
      " - 2s - loss: 0.1313 - acc: 0.8254 - val_loss: 0.1295 - val_acc: 0.8365\n"
     ]
    }
   ],
   "source": [
    "history = model.fit(x_train, y_train,\n",
    "                    batch_size=BATCH_SIZE,\n",
    "                    epochs=NUM_EPOCHS,\n",
    "                    verbose=2,\n",
    "                    validation_data=(x_test, y_test))"
   ]
  },
  {
   "cell_type": "markdown",
   "metadata": {},
   "source": [
    "..."
   ]
  },
  {
   "cell_type": "code",
   "execution_count": 6,
   "metadata": {},
   "outputs": [
    {
     "name": "stdout",
     "output_type": "stream",
     "text": [
      "Layer: 0 parameter: 0 type: float32 shape: (1200, 256)\n",
      "Layer: 0 parameter: 1 type: float32 shape: (256,)\n",
      "Layer: 1 parameter: 0 type: float32 shape: (256, 64)\n",
      "Layer: 1 parameter: 1 type: float32 shape: (64,)\n",
      "Layer: 2 parameter: 0 type: float32 shape: (64, 1)\n",
      "Layer: 2 parameter: 1 type: float32 shape: (1,)\n"
     ]
    }
   ],
   "source": [
    "for layer_id, layer in enumerate(model.layers):\n",
    "    weights = layer.get_weights()\n",
    "    for param_id, param in enumerate(weights):\n",
    "        print(\"Layer: {} parameter: {} type: {} shape: {}\".format(\n",
    "                layer_id, param_id, param.dtype, param.shape))"
   ]
  },
  {
   "cell_type": "markdown",
   "metadata": {},
   "source": [
    "..."
   ]
  }
 ],
 "metadata": {
  "kernelspec": {
   "display_name": "Python 2",
   "language": "python",
   "name": "python2"
  },
  "language_info": {
   "codemirror_mode": {
    "name": "ipython",
    "version": 2
   },
   "file_extension": ".py",
   "mimetype": "text/x-python",
   "name": "python",
   "nbconvert_exporter": "python",
   "pygments_lexer": "ipython2",
   "version": "2.7.15rc1"
  }
 },
 "nbformat": 4,
 "nbformat_minor": 2
}
