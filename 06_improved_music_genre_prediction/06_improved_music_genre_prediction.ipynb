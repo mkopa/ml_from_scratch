{
 "cells": [
  {
   "cell_type": "markdown",
   "metadata": {},
   "source": [
    "# Improved music genre prediction using Keras\n",
    "\n",
    "\n",
    "In this lesson we will...\n",
    "\n",
    "\n",
    "## Implementation"
   ]
  },
  {
   "cell_type": "code",
   "execution_count": 1,
   "metadata": {},
   "outputs": [
    {
     "name": "stderr",
     "output_type": "stream",
     "text": [
      "Using Theano backend.\n",
      "WARNING (theano.tensor.blas): Using NumPy C-API based implementation for BLAS functions.\n"
     ]
    }
   ],
   "source": [
    "import numpy as np\n",
    "from keras.models import Sequential\n",
    "from keras.layers import Dense, Conv1D, Reshape, Flatten\n",
    "from keras.optimizers import Adam\n",
    "\n",
    "IN_FILE = \"./classical_vs_rock.npz\"\n",
    "SAMPLE_WIDTH = 1200\n",
    "\n",
    "BATCH_SIZE = 16\n",
    "LEARNING_RATE = 0.001\n",
    "\n",
    "NUM_EPOCHS = 10\n",
    "\n",
    "data = np.load(IN_FILE)\n",
    "x_train = data['train']\n",
    "y_train = np.zeros((x_train.shape[0]))\n",
    "y_train[int(x_train.shape[0]/2):] = 1.0\n",
    "x_test = data['test']\n",
    "y_test = np.zeros((x_test.shape[0]))\n",
    "y_test[int(x_test.shape[0]/2):] = 1.0"
   ]
  },
  {
   "cell_type": "markdown",
   "metadata": {},
   "source": [
    "..."
   ]
  },
  {
   "cell_type": "code",
   "execution_count": 2,
   "metadata": {},
   "outputs": [],
   "source": [
    "model = Sequential()\n",
    "model.add(Reshape((SAMPLE_WIDTH, 1), input_shape=(SAMPLE_WIDTH,)))\n",
    "model.add(Conv1D(32, kernel_size=31, strides=4, padding='same', activation='relu'))\n",
    "model.add(Conv1D(32, kernel_size=31, strides=3, padding='same', activation='relu'))\n",
    "model.add(Conv1D(48, kernel_size=15, strides=2, padding='same', activation='relu'))\n",
    "model.add(Conv1D(48, kernel_size=15, strides=2, padding='same', activation='relu'))\n",
    "model.add(Flatten())\n",
    "model.add(Dense(64, activation='relu'))\n",
    "model.add(Dense(1, activation='sigmoid'))"
   ]
  },
  {
   "cell_type": "markdown",
   "metadata": {},
   "source": [
    "..."
   ]
  },
  {
   "cell_type": "code",
   "execution_count": 3,
   "metadata": {},
   "outputs": [],
   "source": [
    "model.compile(loss='mean_squared_error',\n",
    "              optimizer=Adam(lr=LEARNING_RATE),\n",
    "              metrics=['accuracy'])\n",
    "\n",
    "history = model.fit(x_train, y_train,\n",
    "                    batch_size=BATCH_SIZE,\n",
    "                    epochs=NUM_EPOCHS,\n",
    "                    verbose=1,\n",
    "                    validation_data=(x_test, y_test))\n",
    "\n",
    "for layer_id, layer in enumerate(model.layers):\n",
    "    weights = layer.get_weights()\n",
    "    for param_id, param in enumerate(weights):\n",
    "        print(\"Layer: {} parameter: {} type: {} shape: {}\".format(\n",
    "                layer_id, param_id, param.dtype, param.shape))"
   ]
  },
  {
   "cell_type": "markdown",
   "metadata": {},
   "source": [
    "..."
   ]
  }
 ],
 "metadata": {
  "kernelspec": {
   "display_name": "Python 2",
   "language": "python",
   "name": "python2"
  },
  "language_info": {
   "codemirror_mode": {
    "name": "ipython",
    "version": 2
   },
   "file_extension": ".py",
   "mimetype": "text/x-python",
   "name": "python",
   "nbconvert_exporter": "python",
   "pygments_lexer": "ipython2",
   "version": "2.7.12"
  }
 },
 "nbformat": 4,
 "nbformat_minor": 2
}
