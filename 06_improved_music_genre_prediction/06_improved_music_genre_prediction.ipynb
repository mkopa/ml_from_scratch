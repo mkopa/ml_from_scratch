{
 "cells": [
  {
   "cell_type": "markdown",
   "metadata": {},
   "source": [
    "# Improved music genre prediction using Keras\n",
    "\n",
    "\n",
    "In this lesson we will...\n",
    "\n",
    "\n",
    "## Implementation"
   ]
  },
  {
   "cell_type": "code",
   "execution_count": 1,
   "metadata": {},
   "outputs": [
    {
     "name": "stderr",
     "output_type": "stream",
     "text": [
      "/usr/local/lib/python2.7/dist-packages/h5py/__init__.py:36: FutureWarning: Conversion of the second argument of issubdtype from `float` to `np.floating` is deprecated. In future, it will be treated as `np.float64 == np.dtype(float).type`.\n",
      "  from ._conv import register_converters as _register_converters\n",
      "Using TensorFlow backend.\n"
     ]
    }
   ],
   "source": [
    "import numpy as np\n",
    "from keras.models import Sequential\n",
    "from keras.layers import Dense, Conv1D, Reshape, Flatten\n",
    "from keras.optimizers import Adam\n",
    "\n",
    "IN_FILE = \"./classical_vs_rock.npz\"\n",
    "SAMPLE_WIDTH = 1200\n",
    "\n",
    "BATCH_SIZE = 16\n",
    "LEARNING_RATE = 0.001\n",
    "\n",
    "NUM_EPOCHS = 10\n",
    "\n",
    "data = np.load(IN_FILE)\n",
    "x_train = data['train']\n",
    "y_train = np.zeros((x_train.shape[0]))\n",
    "y_train[int(x_train.shape[0]/2):] = 1.0\n",
    "x_test = data['test']\n",
    "y_test = np.zeros((x_test.shape[0]))\n",
    "y_test[int(x_test.shape[0]/2):] = 1.0"
   ]
  },
  {
   "cell_type": "markdown",
   "metadata": {},
   "source": [
    "..."
   ]
  },
  {
   "cell_type": "code",
   "execution_count": 2,
   "metadata": {},
   "outputs": [],
   "source": [
    "model = Sequential()\n",
    "model.add(Reshape((SAMPLE_WIDTH, 1), input_shape=(SAMPLE_WIDTH,)))\n",
    "model.add(Conv1D(32, kernel_size=31, strides=4, padding='same', activation='relu'))\n",
    "model.add(Conv1D(32, kernel_size=31, strides=3, padding='same', activation='relu'))\n",
    "model.add(Conv1D(48, kernel_size=15, strides=2, padding='same', activation='relu'))\n",
    "model.add(Conv1D(48, kernel_size=15, strides=2, padding='same', activation='relu'))\n",
    "model.add(Flatten())\n",
    "model.add(Dense(64, activation='relu'))\n",
    "model.add(Dense(1, activation='sigmoid'))"
   ]
  },
  {
   "cell_type": "markdown",
   "metadata": {},
   "source": [
    "..."
   ]
  },
  {
   "cell_type": "code",
   "execution_count": 3,
   "metadata": {},
   "outputs": [
    {
     "name": "stdout",
     "output_type": "stream",
     "text": [
      "Train on 8000 samples, validate on 2000 samples\n",
      "Epoch 1/10\n",
      " - 4s - loss: 0.1317 - acc: 0.8243 - val_loss: 0.1198 - val_acc: 0.8490\n",
      "Epoch 2/10\n",
      " - 2s - loss: 0.1194 - acc: 0.8424 - val_loss: 0.1120 - val_acc: 0.8495\n",
      "Epoch 3/10\n",
      " - 2s - loss: 0.1141 - acc: 0.8489 - val_loss: 0.1074 - val_acc: 0.8615\n",
      "Epoch 4/10\n",
      " - 2s - loss: 0.1083 - acc: 0.8576 - val_loss: 0.1224 - val_acc: 0.8275\n",
      "Epoch 5/10\n",
      " - 2s - loss: 0.1064 - acc: 0.8612 - val_loss: 0.1017 - val_acc: 0.8680\n",
      "Epoch 6/10\n",
      " - 2s - loss: 0.1016 - acc: 0.8673 - val_loss: 0.0956 - val_acc: 0.8775\n",
      "Epoch 7/10\n",
      " - 2s - loss: 0.0984 - acc: 0.8712 - val_loss: 0.0927 - val_acc: 0.8845\n",
      "Epoch 8/10\n",
      " - 2s - loss: 0.0943 - acc: 0.8766 - val_loss: 0.0948 - val_acc: 0.8835\n",
      "Epoch 9/10\n",
      " - 2s - loss: 0.0908 - acc: 0.8840 - val_loss: 0.0918 - val_acc: 0.8735\n",
      "Epoch 10/10\n",
      " - 2s - loss: 0.0862 - acc: 0.8902 - val_loss: 0.0958 - val_acc: 0.8820\n",
      "Layer: 1 parameter: 0 type: float32 shape: (31, 1, 32)\n",
      "Layer: 1 parameter: 1 type: float32 shape: (32,)\n",
      "Layer: 2 parameter: 0 type: float32 shape: (31, 32, 32)\n",
      "Layer: 2 parameter: 1 type: float32 shape: (32,)\n",
      "Layer: 3 parameter: 0 type: float32 shape: (15, 32, 48)\n",
      "Layer: 3 parameter: 1 type: float32 shape: (48,)\n",
      "Layer: 4 parameter: 0 type: float32 shape: (15, 48, 48)\n",
      "Layer: 4 parameter: 1 type: float32 shape: (48,)\n",
      "Layer: 6 parameter: 0 type: float32 shape: (1200, 64)\n",
      "Layer: 6 parameter: 1 type: float32 shape: (64,)\n",
      "Layer: 7 parameter: 0 type: float32 shape: (64, 1)\n",
      "Layer: 7 parameter: 1 type: float32 shape: (1,)\n"
     ]
    }
   ],
   "source": [
    "model.compile(loss='mean_squared_error',\n",
    "              optimizer=Adam(lr=LEARNING_RATE),\n",
    "              metrics=['accuracy'])\n",
    "\n",
    "history = model.fit(x_train, y_train,\n",
    "                    batch_size=BATCH_SIZE,\n",
    "                    epochs=NUM_EPOCHS,\n",
    "                    verbose=2,\n",
    "                    validation_data=(x_test, y_test))\n",
    "\n",
    "for layer_id, layer in enumerate(model.layers):\n",
    "    weights = layer.get_weights()\n",
    "    for param_id, param in enumerate(weights):\n",
    "        print(\"Layer: {} parameter: {} type: {} shape: {}\".format(\n",
    "                layer_id, param_id, param.dtype, param.shape))"
   ]
  },
  {
   "cell_type": "markdown",
   "metadata": {},
   "source": [
    "..."
   ]
  }
 ],
 "metadata": {
  "kernelspec": {
   "display_name": "Python 2",
   "language": "python",
   "name": "python2"
  },
  "language_info": {
   "codemirror_mode": {
    "name": "ipython",
    "version": 2
   },
   "file_extension": ".py",
   "mimetype": "text/x-python",
   "name": "python",
   "nbconvert_exporter": "python",
   "pygments_lexer": "ipython2",
   "version": "2.7.15rc1"
  }
 },
 "nbformat": 4,
 "nbformat_minor": 2
}
